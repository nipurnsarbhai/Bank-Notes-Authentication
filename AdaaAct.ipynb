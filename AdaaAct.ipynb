{
 "cells": [
  {
   "cell_type": "code",
   "execution_count": 148,
   "metadata": {},
   "outputs": [],
   "source": [
    "import numpy as np\n",
    "import pandas as pd\n",
    "import matplotlib.pyplot as plt\n",
    "from sklearn.model_selection import train_test_split\n",
    "from sklearn.metrics import f1_score"
   ]
  },
  {
   "cell_type": "markdown",
   "metadata": {},
   "source": [
    "# Data Loading and Visualization"
   ]
  },
  {
   "cell_type": "code",
   "execution_count": 149,
   "metadata": {},
   "outputs": [
    {
     "data": {
      "text/html": [
       "<div>\n",
       "<style scoped>\n",
       "    .dataframe tbody tr th:only-of-type {\n",
       "        vertical-align: middle;\n",
       "    }\n",
       "\n",
       "    .dataframe tbody tr th {\n",
       "        vertical-align: top;\n",
       "    }\n",
       "\n",
       "    .dataframe thead th {\n",
       "        text-align: right;\n",
       "    }\n",
       "</style>\n",
       "<table border=\"1\" class=\"dataframe\">\n",
       "  <thead>\n",
       "    <tr style=\"text-align: right;\">\n",
       "      <th></th>\n",
       "      <th>V1</th>\n",
       "      <th>V2</th>\n",
       "      <th>V3</th>\n",
       "      <th>V4</th>\n",
       "      <th>Class</th>\n",
       "    </tr>\n",
       "  </thead>\n",
       "  <tbody>\n",
       "    <tr>\n",
       "      <th>0</th>\n",
       "      <td>3.62160</td>\n",
       "      <td>8.6661</td>\n",
       "      <td>-2.8073</td>\n",
       "      <td>-0.44699</td>\n",
       "      <td>1</td>\n",
       "    </tr>\n",
       "    <tr>\n",
       "      <th>1</th>\n",
       "      <td>4.54590</td>\n",
       "      <td>8.1674</td>\n",
       "      <td>-2.4586</td>\n",
       "      <td>-1.46210</td>\n",
       "      <td>1</td>\n",
       "    </tr>\n",
       "    <tr>\n",
       "      <th>2</th>\n",
       "      <td>3.86600</td>\n",
       "      <td>-2.6383</td>\n",
       "      <td>1.9242</td>\n",
       "      <td>0.10645</td>\n",
       "      <td>1</td>\n",
       "    </tr>\n",
       "    <tr>\n",
       "      <th>3</th>\n",
       "      <td>3.45660</td>\n",
       "      <td>9.5228</td>\n",
       "      <td>-4.0112</td>\n",
       "      <td>-3.59440</td>\n",
       "      <td>1</td>\n",
       "    </tr>\n",
       "    <tr>\n",
       "      <th>4</th>\n",
       "      <td>0.32924</td>\n",
       "      <td>-4.4552</td>\n",
       "      <td>4.5718</td>\n",
       "      <td>-0.98880</td>\n",
       "      <td>1</td>\n",
       "    </tr>\n",
       "  </tbody>\n",
       "</table>\n",
       "</div>"
      ],
      "text/plain": [
       "        V1      V2      V3       V4  Class\n",
       "0  3.62160  8.6661 -2.8073 -0.44699      1\n",
       "1  4.54590  8.1674 -2.4586 -1.46210      1\n",
       "2  3.86600 -2.6383  1.9242  0.10645      1\n",
       "3  3.45660  9.5228 -4.0112 -3.59440      1\n",
       "4  0.32924 -4.4552  4.5718 -0.98880      1"
      ]
     },
     "execution_count": 149,
     "metadata": {},
     "output_type": "execute_result"
    }
   ],
   "source": [
    "df = pd.read_csv('banknote-authentication_csv.csv')\n",
    "features = df.iloc[:,:-1].values\n",
    "labels = df.iloc[:,-1].values\n",
    "features_train, features_test, labels_train, labels_test = train_test_split(features, labels, test_size=0.2)\n",
    "df.head()"
   ]
  },
  {
   "cell_type": "markdown",
   "metadata": {},
   "source": [
    "# Perceptron Modelling"
   ]
  },
  {
   "cell_type": "markdown",
   "metadata": {},
   "source": [
    "## Neural Network"
   ]
  },
  {
   "cell_type": "code",
   "execution_count": 150,
   "metadata": {},
   "outputs": [],
   "source": [
    "# Softmax activation function\n",
    "def softmax(vector):\n",
    "    vector_new = np.random.randn(vector.shape[0], vector.shape[1])\n",
    "    for i in range(vector.shape[0]):\n",
    "        e = np.exp(vector[i,:])\n",
    "        e = e / e.sum()\n",
    "        vector_new[i, 0] = e[0]\n",
    "        vector_new[i, 1] = e[1]\n",
    "        \n",
    "    return vector_new"
   ]
  },
  {
   "cell_type": "code",
   "execution_count": 151,
   "metadata": {},
   "outputs": [],
   "source": [
    "# Forward propogation\n",
    "def forward_prop(X, W1, W2, b1, b2, K0, K1):\n",
    "    # Calculating activationa\n",
    "    Z1 = np.dot(X, W1) + b1\n",
    "    A1 = K0 + K1 * Z1\n",
    "    Z2 = np.dot(A1, W2) + b2\n",
    "    A2 = softmax(Z2)\n",
    "      \n",
    "    # Here cache is the data of previous iteration, to be used for backpropagation\n",
    "    cache = {\"Z1\": Z1,\n",
    "             \"A1\": A1,\n",
    "             \"Z2\": Z2,\n",
    "             \"A2\": A2,\n",
    "             \"K0\": K0,\n",
    "             \"K1\": K1}\n",
    "    \n",
    "    return A2, cache"
   ]
  },
  {
   "cell_type": "code",
   "execution_count": 152,
   "metadata": {},
   "outputs": [],
   "source": [
    "# Categorical cross entropy loss\n",
    "def compute_loss(A2, Y):\n",
    "    return -1 * np.sum(Y * np.log(A2))"
   ]
  },
  {
   "cell_type": "code",
   "execution_count": 153,
   "metadata": {},
   "outputs": [],
   "source": [
    "# Backward propogation\n",
    "def back_prop(W1, b1, W2, b2, cache, learning_rate):\n",
    "    m = 960\n",
    "    # Retrieval from cache\n",
    "    Z1 = cache['Z1']\n",
    "    \n",
    "    A1 = cache['A1']\n",
    "    A2 = cache['A2']\n",
    "    \n",
    "    K0 = cache['K0']\n",
    "    K1 = cache['K1']\n",
    "  \n",
    "    # Backward propagation: calculating the gradients\n",
    "    dZ2 = A2 - Y\n",
    "    dW2 = (1 / m) * np.dot(A1.T, dZ2)\n",
    "    db2 = np.mean(dZ2, axis = 0)\n",
    "    \n",
    "    dA1 = np.dot(dZ2, W2.T)\n",
    "  \n",
    "    dZ1 = K1 * dA1\n",
    "    dW1 = (1 / m) * np.dot(X.T, dZ1)\n",
    "    db1 = np.mean(dZ1, axis = 0)\n",
    "    \n",
    "    dK0 = np.mean(dA1)\n",
    "    dK1 = np.mean(dA1 * Z1)\n",
    "      \n",
    "    # Updating the parameters\n",
    "    W1 = W1 - learning_rate * dW1\n",
    "    b1 = b1 - learning_rate * db1\n",
    "    W2 = W2 - learning_rate * dW2\n",
    "    b2 = b2 - learning_rate * db2\n",
    "    \n",
    "    K0 = K0 - learning_rate * dK0\n",
    "    K1 = K1 - learning_rate * dK1\n",
    "  \n",
    "    return W1, W2, b1, b2, K0, K1"
   ]
  },
  {
   "cell_type": "code",
   "execution_count": 154,
   "metadata": {},
   "outputs": [],
   "source": [
    "# Calculating accuracy\n",
    "def accuracy_metric(actual, predicted):\n",
    "    correct = 0\n",
    "    for i in range(len(actual)):\n",
    "        if actual[i] == predicted[i]:\n",
    "            correct += 1\n",
    "    return correct / float(len(actual)) * 100.0"
   ]
  },
  {
   "cell_type": "markdown",
   "metadata": {},
   "source": [
    "## Train Network"
   ]
  },
  {
   "cell_type": "code",
   "execution_count": 155,
   "metadata": {},
   "outputs": [],
   "source": [
    "def train(X, Y, W1, W2, b1, b2, K0, K1, epochs, lr, bat_s):\n",
    "    # training network\n",
    "    losses = []\n",
    "    for epoch in range(epochs):\n",
    "        # Forward propagation\n",
    "        A2, cache = forward_prop(X, W1, W2, b1, b2, K0, K1)\n",
    "        \n",
    "        # Loss computation\n",
    "        loss = compute_loss(A2, Y)\n",
    "        losses.append(loss)\n",
    "        print ('epoch=%d, lrate=%.3f, loss=%.3f' % (epoch, lr, loss))\n",
    "\n",
    "        # Backpropagation\n",
    "        W1, W2, b1, b2, K0, K1 = back_prop(W1, b1, W2, b2, cache, lr)\n",
    "    \n",
    "    # Training eccuracy\n",
    "    pred = accuracy_metric(labels_train, np.round(A2)[:,1] + 1)\n",
    "        \n",
    "    return W1, W2, b1, b2, K0, K1, losses, pred"
   ]
  },
  {
   "cell_type": "markdown",
   "metadata": {},
   "source": [
    "## Parameters"
   ]
  },
  {
   "cell_type": "code",
   "execution_count": 156,
   "metadata": {},
   "outputs": [],
   "source": [
    "# Parameters\n",
    "# X --> input dataset\n",
    "# Y --> labels\n",
    "np.random.seed(10)\n",
    "\n",
    "X = features_train\n",
    "Y = np.zeros((labels_train.shape[0], 2))\n",
    "for i in range(len(labels_train)):\n",
    "    Y[i, labels_train[i]-1] = 1\n",
    "\n",
    "n_hidden = 4 # number of hidden layer\n",
    "\n",
    "W1 = np.random.randn(X.shape[1], n_hidden); W2 = np.random.randn(n_hidden, 2)\n",
    "b1 = np.random.randn(1, n_hidden); b2 = np.random.randn(1, 2)\n",
    "K0 = np.random.randn(); K1 = np.random.randn()\n",
    "\n",
    "\n",
    "epochs = 45; lr = 0.1; bat_s = 960"
   ]
  },
  {
   "cell_type": "markdown",
   "metadata": {},
   "source": [
    "# Model Training"
   ]
  },
  {
   "cell_type": "code",
   "execution_count": 157,
   "metadata": {
    "scrolled": true
   },
   "outputs": [
    {
     "name": "stdout",
     "output_type": "stream",
     "text": [
      "epoch=0, lrate=0.100, loss=2535.792\n",
      "epoch=1, lrate=0.100, loss=1187.042\n",
      "epoch=2, lrate=0.100, loss=711.735\n",
      "epoch=3, lrate=0.100, loss=475.758\n",
      "epoch=4, lrate=0.100, loss=341.395\n",
      "epoch=5, lrate=0.100, loss=259.687\n",
      "epoch=6, lrate=0.100, loss=208.800\n",
      "epoch=7, lrate=0.100, loss=176.706\n",
      "epoch=8, lrate=0.100, loss=155.700\n",
      "epoch=9, lrate=0.100, loss=141.140\n",
      "epoch=10, lrate=0.100, loss=130.441\n",
      "epoch=11, lrate=0.100, loss=122.177\n",
      "epoch=12, lrate=0.100, loss=115.534\n",
      "epoch=13, lrate=0.100, loss=110.022\n",
      "epoch=14, lrate=0.100, loss=105.335\n",
      "epoch=15, lrate=0.100, loss=101.269\n",
      "epoch=16, lrate=0.100, loss=97.687\n",
      "epoch=17, lrate=0.100, loss=94.490\n",
      "epoch=18, lrate=0.100, loss=91.606\n",
      "epoch=19, lrate=0.100, loss=88.982\n",
      "epoch=20, lrate=0.100, loss=86.576\n",
      "epoch=21, lrate=0.100, loss=84.355\n",
      "epoch=22, lrate=0.100, loss=82.295\n",
      "epoch=23, lrate=0.100, loss=80.375\n",
      "epoch=24, lrate=0.100, loss=78.577\n",
      "epoch=25, lrate=0.100, loss=76.888\n",
      "epoch=26, lrate=0.100, loss=75.295\n",
      "epoch=27, lrate=0.100, loss=73.790\n",
      "epoch=28, lrate=0.100, loss=72.364\n",
      "epoch=29, lrate=0.100, loss=71.009\n",
      "epoch=30, lrate=0.100, loss=69.719\n",
      "epoch=31, lrate=0.100, loss=68.489\n",
      "epoch=32, lrate=0.100, loss=67.315\n",
      "epoch=33, lrate=0.100, loss=66.191\n",
      "epoch=34, lrate=0.100, loss=65.114\n",
      "epoch=35, lrate=0.100, loss=64.082\n",
      "epoch=36, lrate=0.100, loss=63.091\n",
      "epoch=37, lrate=0.100, loss=62.138\n",
      "epoch=38, lrate=0.100, loss=61.221\n",
      "epoch=39, lrate=0.100, loss=60.337\n",
      "epoch=40, lrate=0.100, loss=59.486\n",
      "epoch=41, lrate=0.100, loss=58.665\n",
      "epoch=42, lrate=0.100, loss=57.873\n",
      "epoch=43, lrate=0.100, loss=57.107\n",
      "epoch=44, lrate=0.100, loss=56.367\n"
     ]
    }
   ],
   "source": [
    "W1, W2, b1, b2, K0, K1, losses, train_acc = train(X, Y, W1, W2, b1, b2, K0, K1, epochs, lr, bat_s)"
   ]
  },
  {
   "cell_type": "markdown",
   "metadata": {},
   "source": [
    "# Prediction"
   ]
  },
  {
   "cell_type": "code",
   "execution_count": 158,
   "metadata": {},
   "outputs": [],
   "source": [
    "# Prediction function\n",
    "def predict(X, Y, W1, W2, b1, b2, K0, K1):\n",
    "    # Forward propagation\n",
    "    A2, cache = forward_prop(X, W1, W2, b1, b2, K0, K1)\n",
    "    return A2"
   ]
  },
  {
   "cell_type": "code",
   "execution_count": 159,
   "metadata": {},
   "outputs": [
    {
     "name": "stdout",
     "output_type": "stream",
     "text": [
      "train_acc :  98.99726526891523\n",
      "test_acc :  97.45454545454545\n",
      "train_loss :  56.3672134590239\n",
      "test_loss :  593.0212703872828\n",
      "f1_score :  0.9761092150170648\n"
     ]
    }
   ],
   "source": [
    "X = features_test\n",
    "Y = np.zeros((labels_test.shape[0], 2))\n",
    "for i in range(len(labels_test)):\n",
    "    Y[i, labels_train[i] - 1] = 1\n",
    "\n",
    "model_output = predict(X, Y, W1, W2, b1, b2, K0, K1)\n",
    "test_acc = accuracy_metric(labels_test, np.round(model_output)[:,1] + 1)\n",
    "train_loss = losses[-1]\n",
    "test_loss = compute_loss(model_output, Y)\n",
    "f1_s = f1_score(labels_test, np.round(model_output)[:,1] + 1)\n",
    "print('train_acc : ', train_acc)\n",
    "print('test_acc : ', test_acc)\n",
    "print('train_loss : ', train_loss)\n",
    "print('test_loss : ', test_loss)\n",
    "print('f1_score : ', f1_s)"
   ]
  },
  {
   "cell_type": "code",
   "execution_count": 161,
   "metadata": {},
   "outputs": [
    {
     "data": {
      "image/png": "[encoded data removed]",
      "text/plain": [
       "<Figure size 432x288 with 1 Axes>"
      ]
     },
     "metadata": {
      "needs_background": "light"
     },
     "output_type": "display_data"
    }
   ],
   "source": [
    "plt.title('Learning Curves')\n",
    "plt.xlabel('Epoch')\n",
    "plt.ylabel('Cross Entropy')\n",
    "plt.plot(range(epochs), losses, label='train')\n",
    "plt.legend()\n",
    "plt.show()"
   ]
  },
  {
   "cell_type": "code",
   "execution_count": 162,
   "metadata": {},
   "outputs": [
    {
     "name": "stdout",
     "output_type": "stream",
     "text": [
      "final W1 :  [[ 1.6525569   0.12469618 -1.5823404   0.50137239]\n",
      " [ 0.54100932 -0.58182325  0.26876868 -0.0108593 ]\n",
      " [-0.0463777  -0.07885572  0.41778809  1.12388043]\n",
      " [-0.64926991  0.45383223  0.16639861  0.94681872]]\n",
      "final W2 :  [[-1.09081254  0.0893472 ]\n",
      " [ 1.38939862 -0.98466651]\n",
      " [-1.53833402 -2.18276656]\n",
      " [ 0.29553834  2.35549916]]\n",
      "final b1 :  [[1.00868435 1.88297185 0.12974825 1.2131857 ]]\n",
      "final b2 :  [[-0.50388256  0.84583876]]\n",
      "final K0 :  -0.23025235038196115\n",
      "final K1 :  -0.453595713339841\n"
     ]
    }
   ],
   "source": [
    "print('final W1 : ', W1)\n",
    "print('final W2 : ', W2)\n",
    "print('final b1 : ', b1)\n",
    "print('final b2 : ', b2)\n",
    "print('final K0 : ', K0)\n",
    "print('final K1 : ', K1)"
   ]
  },
  {
   "cell_type": "code",
   "execution_count": null,
   "metadata": {},
   "outputs": [],
   "source": []
  },
  {
   "cell_type": "code",
   "execution_count": null,
   "metadata": {},
   "outputs": [],
   "source": []
  },
  {
   "cell_type": "code",
   "execution_count": null,
   "metadata": {},
   "outputs": [],
   "source": []
  },
  {
   "cell_type": "code",
   "execution_count": null,
   "metadata": {},
   "outputs": [],
   "source": []
  },
  {
   "cell_type": "code",
   "execution_count": null,
   "metadata": {},
   "outputs": [],
   "source": []
  }
 ],
 "metadata": {
  "kernelspec": {
   "display_name": "Python 3",
   "language": "python",
   "name": "python3"
  },
  "language_info": {
   "codemirror_mode": {
    "name": "ipython",
    "version": 3
   },
   "file_extension": ".py",
   "mimetype": "text/x-python",
   "name": "python",
   "nbconvert_exporter": "python",
   "pygments_lexer": "ipython3",
   "version": "3.8.5"
  }
 },
 "nbformat": 4,
 "nbformat_minor": 4
}
